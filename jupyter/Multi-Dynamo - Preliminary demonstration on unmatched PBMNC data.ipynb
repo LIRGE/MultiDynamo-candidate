{
 "cells": [
  {
   "cell_type": "markdown",
   "id": "8a8d73b5-97f6-4171-88db-23e15b39598f",
   "metadata": {},
   "source": [
    "# Unmatched multiomic data from PBMC\n",
    "We will work through the example of 10X multi-omics data from Peripheral Blood Mononuclear Cells.  The data are freely available from 10X and we supply another jupyter notebook downloads the data from 10X and counts the unspliced and spliced transcripts.\n",
    "\n",
    "### This notebook broaches the problem of unmatched multiomic data and is preliminary. Integrating unmatched data is computationally more time consuming."
   ]
  },
  {
   "cell_type": "markdown",
   "id": "d174f030-3ff7-4ecb-9b26-c38a3edb73ae",
   "metadata": {},
   "source": [
    "### Preliminaries\n",
    "We begin in the usual fashion by importing needed packages.  We load modules specific to MultiDynamo here.  Classes and methods of MultiDynamo have all been added to a single folder 'multi' that is parallel to 'preprocessing', 'estimation', 'prediction', etc.  When fully incorportated into dynamo this will disappear."
   ]
  },
  {
   "cell_type": "code",
   "execution_count": 1,
   "id": "9966f586-0a20-4e56-bac8-6103036d304e",
   "metadata": {},
   "outputs": [
    {
     "name": "stdout",
     "output_type": "stream",
     "text": [
      "scanpy==1.10.2 anndata==0.10.8 umap==0.5.6 numpy==1.26.4 scipy==1.14.0 pandas==2.2.2 scikit-learn==1.4.2 statsmodels==0.14.2 igraph==0.10.8 louvain==0.8.0 pynndescent==0.5.13\n"
     ]
    }
   ],
   "source": [
    "import warnings\n",
    "warnings.simplefilter('ignore', category=Warning)\n",
    "\n",
    "import dynamo as dyn\n",
    "import matplotlib.pyplot as plt\n",
    "import muon as mu\n",
    "import numpy as np\n",
    "import os\n",
    "import pandas as pd\n",
    "from pathlib import Path\n",
    "import seaborn as sns\n",
    "import scanpy as sc\n",
    "sc.logging.print_header()\n",
    "sc.settings.set_figure_params(dpi=80, frameon=False, facecolor='white')\n",
    "from scipy.sparse import issparse, spmatrix\n",
    "import sys\n",
    "\n",
    "# MultiVelo related classes and methods - This will disappear if we fully incorporate into dynamo\n",
    "PARENT_DIR = Path().resolve().parent\n",
    "sys.path.append(os.path.join(PARENT_DIR, 'dynamo', 'dynamo', 'multi'))\n",
    "\n",
    "from ATACseqTools import annotate_integrated_mdata, gene_activity, integrate\n",
    "from MultiIO import read_10x_multiome_h5, read_10x_atac_rna_h5\n",
    "from MultiPreprocessor import MultiPreprocessor\n",
    "from MultiomicVectorField import MultiomicVectorField\n",
    "from MultiVelocity import MultiVelocity"
   ]
  },
  {
   "cell_type": "markdown",
   "id": "3861aadb-b216-4f14-a75d-5c80add0f838",
   "metadata": {},
   "source": [
    "### Define paths\n",
    "Here we define paths in a locale specific manner. I run on both OSX and Linux platforms with synching of data and results through the cloud; globals.py defines global variables in a platform aware manner.\n",
    "\n",
    "You can either modify globals.py or just specify:\n",
    "- Location of the MultiDynamo installation (BASE_PATH)\n",
    "- Location of cache for intermediate results (CACHE_PATH)\n",
    "- Location(s) of cellranger style 'outs' directory(ies) containing the counts data (MULTIOME_PATH or ATAC_PATH and RNA_PATH)\n",
    "- Location to reference data, i.e. annotation in GTF format (GTF_PATH)"
   ]
  },
  {
   "cell_type": "code",
   "execution_count": 2,
   "id": "83e8543b-ad77-4ad6-9b69-61f71e7fdd6d",
   "metadata": {},
   "outputs": [],
   "source": [
    "# Read in global variables from file\n",
    "from globals import ATAC_PATH, CACHE_PATH, GTF_PATH, MULTIOME_PATH, RNA_PATH \n",
    "\n",
    "# ALTERNATIVELY, YOU CAN DEFINE THE FOLLOWING GLOBAL VARIABLES BELOW (DEFINE AND UNCOMMENT AS NEEDED)\n",
    "# BASE_PATH = /your/MultiDynamo/path (should contain dynamo and multi)\n",
    "\n",
    "# ... path to cache for intermediate results\n",
    "# CACHE_PATH = /your/path/to/cache\n",
    "\n",
    "# ... for matched multiomic data\n",
    "# MULTIOME_PATH = /your/path/to/multiome/outs\n",
    "\n",
    "# ... for unmatched multiomic data\n",
    "# ATAC_PATH = /your path to/atac/outs\n",
    "# RNA_PATH = /your/path/to/rna/outs\n",
    "\n",
    "# ... path to genome annotation\n",
    "# GTF_PATH = /your/local/human/genome/gtf"
   ]
  },
  {
   "cell_type": "markdown",
   "id": "e2da0935-1620-43fa-8147-4ab2de3b0c21",
   "metadata": {},
   "source": [
    "## Load data\n",
    "Multi-omic data comes in one of two forms generally: (1) Matched data from multiple modaliies for each cell or (2) Unmatched data from different modalities for different cells.  The latter requires additional integration steps.  We'll begin in full generality with both cases, but only fully demonstrate the matched case.  We'll provide another jupyter notebook for the (more time consuming) unmatched case.\n",
    "\n",
    "The input data will be (one or two) 'outs' folders containing cellranger output and in parallel a velocyto directory containing the loom file of spliced and uncpliced reads as computed by velocyto."
   ]
  },
  {
   "cell_type": "markdown",
   "id": "9721c88d-aadf-4f0d-89ac-9005e9da08dc",
   "metadata": {},
   "source": [
    "### Unmatched multimodal data\n",
    "Here we demonstrate the data loader for the case where scATAC-seq and scRNA-seq data were acquired from cells separately.\n",
    "\n",
    "***Note: This automatically reads in a loom file of splicing counts computed by velocyto.***"
   ]
  },
  {
   "cell_type": "code",
   "execution_count": 3,
   "id": "dab12b98-ecb0-436a-b648-552900584a0e",
   "metadata": {},
   "outputs": [
    {
     "name": "stdout",
     "output_type": "stream",
     "text": [
      "|-----> Deserializing UNMATCHED scATAC-seq and scRNA-seq data ...\n",
      "|-----------> reading scATAC-seq data\n",
      "|-----------> reading scRNA-seq data\n",
      "|-----------> combining scATAC-seq data and scRNA-seq data into MuData object ...\n",
      "|-----------------> <insert> .uns[matched_atac_rna_data] = False\n",
      "|-----------------> <insert> path to fragments file in .uns['files']\n",
      "|-----------> adding peak annotation ...\n",
      "|-----------> homogenizing cell indices ...\n",
      "|-----------> adding splicing data ...\n",
      "|-----> [read_10x_atac_rna_h5] completed [92.1638s]\n"
     ]
    }
   ],
   "source": [
    "# Read in unmatched data\n",
    "unmatched_mdata = read_10x_atac_rna_h5(atac_path=ATAC_PATH, rna_path=RNA_PATH)"
   ]
  },
  {
   "cell_type": "markdown",
   "id": "2de63cc6-4f52-4f83-a224-8e24f18eb9a3",
   "metadata": {},
   "source": [
    "#### Checkpoint\n",
    "We serialize unmatched data to cache in the form of an .h5mu file."
   ]
  },
  {
   "cell_type": "code",
   "execution_count": 4,
   "id": "9d09b53d-1add-4949-ab67-0ffec45b8179",
   "metadata": {},
   "outputs": [],
   "source": [
    "unmatched_mdata.write(os.path.join(CACHE_PATH, 'unmatched_mdata.h5mu'))"
   ]
  },
  {
   "cell_type": "markdown",
   "id": "a1a6683d-1d28-4e42-8656-b6325be015d6",
   "metadata": {},
   "source": [
    "## Pre-processing\n",
    "Here we carry out preprocessing as specified in recipes in the manner carried out by dynamo.  Preprocessing of scATAC-seq data involves computing latent semantic indexing, followed by filtering of cells and peaks.  Preprocessing of scRNA-seq data uses functionality already build into dynamo."
   ]
  },
  {
   "cell_type": "code",
   "execution_count": 5,
   "id": "82a1ef57-8a27-413e-add0-f97187e01719",
   "metadata": {},
   "outputs": [
    {
     "name": "stdout",
     "output_type": "stream",
     "text": [
      "|-----> Running muon preprocessing pipeline for scATAC-seq data ...\n"
     ]
    },
    {
     "name": "stderr",
     "output_type": "stream",
     "text": [
      "[W::hts_idx_load3] The index file is older than the data file: /data/LIRGE/external_data/10k_human_PBMC_ATAC/outs/fragments.tsv.gz.tbi\n",
      "Reading Fragments: 100%|██████████████████████████████████████████████████████████| 1000000/1000000 [00:04<00:00, 233486.91it/s]\n"
     ]
    },
    {
     "name": "stdout",
     "output_type": "stream",
     "text": [
      "|-----------> filtered out 0 outlier features\n",
      "|-----------> filtered out 206 outlier cells\n",
      "|-----------> filtered out 202 outlier cells\n",
      "|-----> computing TF-IDF\n",
      "|-----> normalizing\n",
      "|-----> feature selection\n",
      "|-----------> identified 10116 highly variable features\n",
      "|-----> computing latent sematic indexing\n",
      "|-----------> <insert> X_lsi key in .obsm\n",
      "|-----------> <insert> LSI key in .varm\n",
      "|-----------> <insert> [lsi][stdev] key in .uns\n",
      "|-----> [preprocess_atac_muon] completed [269.5963s]\n",
      "|-----> Running monocle preprocessing pipeline...\n",
      "|-----------> filtered out 36 outlier cells\n",
      "|-----------> filtered out 15349 outlier genes\n",
      "|-----> PCA dimension reduction\n",
      "|-----> <insert> X_pca to obsm in AnnData Object.\n",
      "|-----> [Preprocessor-monocle] completed [93.6963s]\n"
     ]
    }
   ],
   "source": [
    "# Instantiate a multi-omic preprocessor\n",
    "multi_preprocessor = MultiPreprocessor(cell_cycle_score_enable=False)\n",
    "\n",
    "# Preprocess\n",
    "multi_preprocessor.preprocess_mdata(unmatched_mdata,\n",
    "                                    recipe_dict={'atac': 'muon', 'rna': 'monocle'})"
   ]
  },
  {
   "cell_type": "markdown",
   "id": "09bb3fc3-c7fb-4e5e-b0d6-bf1ceb75ae14",
   "metadata": {},
   "source": [
    "#### Checkpoint\n",
    "We serialize preprocessed object to cache."
   ]
  },
  {
   "cell_type": "code",
   "execution_count": 6,
   "id": "34825855-9a34-4f5c-a08c-69d16c1eb959",
   "metadata": {},
   "outputs": [],
   "source": [
    "unmatched_mdata.write(os.path.join(CACHE_PATH, 'preprocessed_unmatched_mdata.h5mu'))"
   ]
  },
  {
   "cell_type": "markdown",
   "id": "2f27ccbb-ee6d-4e07-8266-520e4f9635eb",
   "metadata": {},
   "source": [
    "## Integration\n",
    "Integrating unmatched multi-omic data is more difficult and we have implemented several versions.  Here we demonstrate an approach via MultiVI which is comutationally intensive.\n",
    "\n",
    "#### Recovery from checkpoint\n",
    "The next block deserializes the preprocessed object from cache.  It may be skipped if the object is already memory resident."
   ]
  },
  {
   "cell_type": "code",
   "execution_count": 7,
   "id": "8b4b47ad-4847-46af-a3cf-90d2aa7ba36e",
   "metadata": {},
   "outputs": [],
   "source": [
    "unmatched_mdata = mu.read(os.path.join(CACHE_PATH, 'unmatched_mdata.h5mu'))"
   ]
  },
  {
   "cell_type": "code",
   "execution_count": null,
   "id": "7f5ac4ef-79cc-4e5f-943e-dbb10851ac23",
   "metadata": {},
   "outputs": [
    {
     "name": "stdout",
     "output_type": "stream",
     "text": [
      "|-----> Integration via MULTIVI ...\n",
      "|-----------> Computing gene activities\n",
      "|-----------------> reading GTF\n",
      "|-----------------> extending genes to estimate regulatory regions\n",
      "|-----------------> [extend_genes] completed [44.2556s]\n",
      "|-----------------> overlapping peaks and extended genes\n",
      "|-----------------> building dictionaries\n"
     ]
    },
    {
     "name": "stderr",
     "output_type": "stream",
     "text": [
      "Processing peaks: 100%|████████████████████████████████████████████████████████████████| 164487/164487 [26:09<00:00, 104.80it/s]"
     ]
    },
    {
     "name": "stdout",
     "output_type": "stream",
     "text": [
      "|-----------------> aggregating results\n"
     ]
    },
    {
     "name": "stderr",
     "output_type": "stream",
     "text": [
      "\n"
     ]
    },
    {
     "name": "stdout",
     "output_type": "stream",
     "text": [
      "|-----------------> [aggregating_results] completed [81.4242s]\n",
      "|-----------> Preparing ATAC-seq data for MULTIVI\n",
      "|-----------> Preparing RNA-seq data for MULTIVI\n",
      "|-----------> Setting up combined data for MULTIVI\n"
     ]
    },
    {
     "name": "stderr",
     "output_type": "stream",
     "text": [
      "Unable to initialize backend 'rocm': NOT_FOUND: Could not find registered platform with name: \"rocm\". Available platform names are: CUDA\n",
      "Unable to initialize backend 'tpu': INTERNAL: Failed to open libtpu.so: libtpu.so: cannot open shared object file: No such file or directory\n"
     ]
    },
    {
     "name": "stdout",
     "output_type": "stream",
     "text": [
      "|-----------> Instantiating MULTIVI model\n",
      "|-----------> Training MULTIVI model\n"
     ]
    },
    {
     "name": "stderr",
     "output_type": "stream",
     "text": [
      "INFO: GPU available: True (cuda), used: True\n",
      "GPU available: True (cuda), used: True\n",
      "INFO: TPU available: False, using: 0 TPU cores\n",
      "TPU available: False, using: 0 TPU cores\n",
      "INFO: IPU available: False, using: 0 IPUs\n",
      "IPU available: False, using: 0 IPUs\n",
      "INFO: HPU available: False, using: 0 HPUs\n",
      "HPU available: False, using: 0 HPUs\n",
      "INFO: LOCAL_RANK: 0 - CUDA_VISIBLE_DEVICES: [0]\n",
      "LOCAL_RANK: 0 - CUDA_VISIBLE_DEVICES: [0]\n"
     ]
    },
    {
     "name": "stdout",
     "output_type": "stream",
     "text": [
      "Epoch 13/500:   2%|▎             | 12/500 [06:51<4:37:06, 34.07s/it, v_num=1, train_loss_step=2.41e+4, train_loss_epoch=2.47e+4]"
     ]
    }
   ],
   "source": [
    "integrated_unmatched_mdata = integrate(mdata = unmatched_mdata,\n",
    "                                       gtf_path = GTF_PATH)"
   ]
  },
  {
   "cell_type": "markdown",
   "id": "68c9dd85-d510-4abf-9878-3504f7ebeeed",
   "metadata": {},
   "source": [
    "#### Checkpoint\n",
    "We serialize the integrated and preprocessed object to cache."
   ]
  },
  {
   "cell_type": "code",
   "execution_count": null,
   "id": "d87eb963-aa59-48fb-9d43-814cab93ae72",
   "metadata": {},
   "outputs": [],
   "source": [
    "integrated_unmatched_mdata.write(os.path.join(CACHE_PATH, 'integrated_unmatched_mdata.h5mu'))"
   ]
  },
  {
   "cell_type": "markdown",
   "id": "2afc42c4-7a5c-417c-a292-446421e6cdf2",
   "metadata": {},
   "source": [
    "## Annotate cells\n",
    "We use CellTypist for automated cell type annotation of the cells."
   ]
  },
  {
   "cell_type": "markdown",
   "id": "a819e498-47d7-4625-af0e-a2819bf01efe",
   "metadata": {},
   "source": [
    "We'll filter out everything except for T cells, since we are primarily interested in T cell development."
   ]
  },
  {
   "cell_type": "code",
   "execution_count": null,
   "id": "51258b55-f367-4f83-b78e-e08fdb11b712",
   "metadata": {},
   "outputs": [],
   "source": [
    "integrated_unmatched_mdata = annotate_integrated_mdata(integrated_unmatched_mdata)"
   ]
  },
  {
   "cell_type": "code",
   "execution_count": null,
   "id": "36ac0b08-58cb-4fb5-ba77-3022423b49bc",
   "metadata": {},
   "outputs": [],
   "source": [
    "# Extract the predicted cell types\n",
    "cell_types = list(set(integrated_unmatched_mdata.mod['rna'].obs['cell_type']))\n",
    "t_cell_types = [cell_type for cell_type in cell_types if 'T cell' in cell_type]\n",
    "mask = [cell_type in t_cell_types for cell_type in integrated_unmatched_mdata.mod['rna'].obs['cell_type']]\n",
    "\n",
    "# Filter the cells to T cells\n",
    "integrated_unmatched_mdata = integrated_unmatched_mdata[mask, :].copy()"
   ]
  },
  {
   "cell_type": "code",
   "execution_count": null,
   "id": "5e234820-3490-48db-9f45-3ff7fb1078ac",
   "metadata": {},
   "outputs": [],
   "source": [
    "integrated_unmatched_mdata.write(os.path.join(CACHE_PATH, 'annotated_integrated_unmatched_mdata.h5mu'))"
   ]
  },
  {
   "cell_type": "markdown",
   "id": "a2fdf8a8-69b1-4575-a747-5b08d96c56fc",
   "metadata": {},
   "source": [
    "## Compute multi-omic velocity\n",
    "For matched data we use the linkage files computed by cellranger to narrow down list of cis-regulatory elements considered for dynamics.  We are still testing several implementations of our own."
   ]
  },
  {
   "cell_type": "code",
   "execution_count": 17,
   "id": "74582eaf-614c-4b5b-878e-2e1e2c4184a3",
   "metadata": {},
   "outputs": [],
   "source": [
    "# Read in annotated and integrated MuData object\n",
    "integrated_unmatched_mdata = mu.read(os.path.join(CACHE_PATH, 'annotated_integrated_unmatched_tcell_mdata.h5mu'))"
   ]
  },
  {
   "cell_type": "code",
   "execution_count": null,
   "id": "57eb4551-7af4-4dd8-804f-6f5e166103b2",
   "metadata": {
    "scrolled": true
   },
   "outputs": [],
   "source": [
    "# Compute MultiVelocity from the annotated and integrated MuData object\n",
    "#  ***************** DO NOT RUN ***************************************\n",
    "multi_velocity = MultiVelocity(mdata=integrated_unmatched_mdata,\n",
    "                               linkage_method='cellranger', # future: 'cicero' or 'scenic+'\n",
    "                               neighbor_method='wnn') # 'wnn' or 'multivi')\n",
    "\n",
    "multi_velocity.compute_velocities(num_processes=6)"
   ]
  },
  {
   "cell_type": "markdown",
   "id": "ab7f597b-8699-4ccb-8029-e2b2ad2f3659",
   "metadata": {},
   "source": [
    "We can convert MultiVelocity to a MuData object, serialize and read it back from disk."
   ]
  },
  {
   "cell_type": "code",
   "execution_count": 19,
   "id": "5e269143-8151-42ff-a6d6-6daabc5ab605",
   "metadata": {},
   "outputs": [],
   "source": [
    "# Serialize multi_velocity to disk - this involved conversion to MuData object\n",
    "#  ***************** DO NOT RUN ***************************************\n",
    "multi_velocity.write(os.path.join(CACHE_PATH, 'multi_velocity_tcell_adata.h5mu'))"
   ]
  },
  {
   "cell_type": "markdown",
   "id": "b8a7f859-c470-40e1-aae1-977ec0bc2743",
   "metadata": {},
   "source": [
    "## Reconstruction of the vector field\n",
    "Here we start after a checkpoint, deserializing previously serialized computations.  You can skip this block if the MultiVelocity object is already memory resident."
   ]
  },
  {
   "cell_type": "code",
   "execution_count": 5,
   "id": "d71714ca-d40b-4dd4-ba13-614a13a960c0",
   "metadata": {},
   "outputs": [],
   "source": [
    "# Read the MuData object\n",
    "#  ***************** DO NOT RUN ***************************************\n",
    "multi_velocity_md = mu.read(os.path.join(CACHE_PATH, 'multi_velocity_tcell_adata.h5mu'))\n",
    "\n",
    "# Instantiate the MultiVelocity object\n",
    "multi_velocity = MultiVelocity.from_mdata(multi_velocity_md)"
   ]
  },
  {
   "cell_type": "markdown",
   "id": "eb7d5890-17cf-46df-a56a-0c29747875a1",
   "metadata": {},
   "source": [
    "Instantiate a MultiomicVectorField object from the MultiVelocity object."
   ]
  },
  {
   "cell_type": "code",
   "execution_count": 6,
   "id": "028611ec-c9a7-412e-93b2-b7ad53238ac8",
   "metadata": {},
   "outputs": [],
   "source": [
    "#  ***************** DO NOT RUN ***************************************\n",
    "multi_vector_field = MultiomicVectorField(multi_velocity)"
   ]
  },
  {
   "cell_type": "markdown",
   "id": "63c142ce-b124-4b06-b303-81866732c525",
   "metadata": {},
   "source": [
    "#### Checkpoint:\n",
    "We can extract from the MultiVectorField class an AnnData object that is suitable for further analysis using dynamo alone.  We'll extract it and save it in the block below."
   ]
  },
  {
   "cell_type": "code",
   "execution_count": 7,
   "id": "a94ae5bf-b280-451b-8133-260776fdc472",
   "metadata": {},
   "outputs": [],
   "source": [
    "#  ***************** DO NOT RUN ***************************************\n",
    "multi_vector_field.multi_adata.write(os.path.join(CACHE_PATH, 'multi_adata.h5ad'))"
   ]
  },
  {
   "cell_type": "markdown",
   "id": "779dd771-17b8-400d-8093-88b550a568ae",
   "metadata": {},
   "source": [
    "### Computation of the smooth analytic vector field"
   ]
  },
  {
   "cell_type": "markdown",
   "id": "0e67da63-37ab-4534-936e-a0ecd3288220",
   "metadata": {},
   "source": [
    "Or we can proceed on with methods from Multi"
   ]
  },
  {
   "cell_type": "code",
   "execution_count": null,
   "id": "bd7e86bb-0298-4fdf-b5b1-0d264a4e8cfc",
   "metadata": {},
   "outputs": [],
   "source": [
    "#  ***************** DO NOT RUN ***************************************\n",
    "multi_adata = multi_vector_field.cell_velocities()"
   ]
  },
  {
   "cell_type": "code",
   "execution_count": null,
   "id": "06c86597-a883-4136-b0ab-2699663670d3",
   "metadata": {
    "scrolled": true
   },
   "outputs": [],
   "source": [
    "#  ***************** DO NOT RUN ***************************************\n",
    "multi_vector_field.compute_vector_field()"
   ]
  },
  {
   "cell_type": "markdown",
   "id": "e3dfdb40-e173-4e9f-8a6f-5e44bafe9089",
   "metadata": {},
   "source": [
    "### Visualization of Velocities"
   ]
  },
  {
   "cell_type": "code",
   "execution_count": null,
   "id": "f334767b-ea88-4105-84f3-0257474f6ac5",
   "metadata": {},
   "outputs": [],
   "source": [
    "#  ***************** DO NOT RUN ***************************************\n",
    "import matplotlib.pyplot as plt\n",
    "%matplotlib inline\n",
    "\n",
    "multi_vector_field.plot_cell_wise_vectors()\n",
    "multi_vector_field.plot_streamline_plot()"
   ]
  },
  {
   "cell_type": "markdown",
   "id": "cc7d7ed6-03ad-480f-8f70-986828881b9b",
   "metadata": {},
   "source": [
    "## Characterization of vector field topology"
   ]
  },
  {
   "cell_type": "code",
   "execution_count": null,
   "id": "7501ed87-76e9-42ee-a136-6e00c79db643",
   "metadata": {},
   "outputs": [],
   "source": [
    "#  ***************** DO NOT RUN ***************************************\n",
    "multi_vector_field.plot_topography()"
   ]
  },
  {
   "cell_type": "markdown",
   "id": "adcf6bc0-c316-4d07-b8e6-e9a6a8209335",
   "metadata": {},
   "source": [
    "## In silico perturbation\n",
    "First we show the effects of a perturbation to a gene.\n",
    "\n",
    "We begin by listing the genes that we can perturb:"
   ]
  },
  {
   "cell_type": "code",
   "execution_count": null,
   "id": "c8cd3d60-7875-4dd1-940f-723a5acfbb2f",
   "metadata": {},
   "outputs": [],
   "source": [
    "#  ***************** DO NOT RUN ***************************************\n",
    "# Extract information about all genes and CREs\n",
    "gene_and_cre_df = multi_vector_field.multi_adata.var.copy()\n",
    "\n",
    "# Narrow to perturbable genes\n",
    "gene_df = gene_and_cre_df[gene_and_cre_df['feature_type']  == 'gene']\n",
    "perturbable_gene_df = gene_df[gene_df['use_for_pca']]\n",
    "\n",
    "# We can search for genes starting with certain letters - Interleukins are generally interesting ...\n",
    "perturbable_gene_df[perturbable_gene_df.index.str.startswith('IL')]"
   ]
  },
  {
   "cell_type": "code",
   "execution_count": null,
   "id": "18554cd5-7dff-487e-867e-e6c084e90d4b",
   "metadata": {},
   "outputs": [],
   "source": [
    "#  ***************** DO NOT RUN ***************************************\n",
    "# Compute the perturbation to IL2 receptor alpha expresion - important in autoimmunity\n",
    "multi_vector_field.predict_perturbation(gene='IL2RA',\n",
    "                                        expression=50)"
   ]
  },
  {
   "cell_type": "code",
   "execution_count": null,
   "id": "8aab7c07-569f-4747-be2f-bb05b8b45a02",
   "metadata": {},
   "outputs": [],
   "source": [
    "#  ***************** DO NOT RUN ***************************************\n",
    "# Extract information about all genes and CREs\n",
    "gene_and_cre_df = multi_vector_field.multi_adata.var.copy()\n",
    "\n",
    "# Narrow to perturbable CREs\n",
    "cre_df = gene_and_cre_df[gene_and_cre_df['feature_type']  == 'CRE']\n",
    "perturbable_cre_df = cre_df[cre_df['use_for_pca']]\n",
    "\n",
    "# We can search for CRE on specific chromosome - IL2RA is on chr10 ...\n",
    "perturbable_cre_df[perturbable_cre_df.index.str.startswith('chr10')]"
   ]
  },
  {
   "cell_type": "markdown",
   "id": "be5cf518-dbd4-4eba-b5a2-8553e9205e8f",
   "metadata": {},
   "source": [
    "### Perturbations to cis regulatory elements\n",
    "Here we demonstrate a computation of a perturbation to a cis-regulatory element."
   ]
  },
  {
   "cell_type": "code",
   "execution_count": null,
   "id": "d2188b36-3efe-4cbc-9535-34521355e14b",
   "metadata": {},
   "outputs": [],
   "source": [
    "#  ***************** DO NOT RUN ***************************************\n",
    "multi_vector_field.predict_perturbation(gene='chr10:114542903-114545289',\n",
    "                                        expression=50)"
   ]
  }
 ],
 "metadata": {
  "kernelspec": {
   "display_name": "Python 3 (ipykernel)",
   "language": "python",
   "name": "python3"
  },
  "language_info": {
   "codemirror_mode": {
    "name": "ipython",
    "version": 3
   },
   "file_extension": ".py",
   "mimetype": "text/x-python",
   "name": "python",
   "nbconvert_exporter": "python",
   "pygments_lexer": "ipython3",
   "version": "3.11.9"
  }
 },
 "nbformat": 4,
 "nbformat_minor": 5
}
